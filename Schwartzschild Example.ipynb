{
 "cells": [
  {
   "cell_type": "markdown",
   "metadata": {},
   "source": [
    "## Schwartzschild metric Example\n",
    "$ds^2 = f(r)d\\tau^2  - \\frac{dr^2}{f(r)} - r^2d\\Omega^2 $\n",
    "\n",
    "$f(r) = 1-\\frac{2M}{r}$ in Geometric unit ($c = \\hbar = G = 1$)\n",
    "\n",
    "\n",
    "\n",
    "This notebook is made as an example to explore some functionaly of the ETV package.\n",
    "\n",
    "The Schwartzschild metric can be imported from standard_metrics."
   ]
  },
  {
   "cell_type": "code",
   "execution_count": 45,
   "metadata": {},
   "outputs": [],
   "source": [
    "from standard_metrics import Schwartzshild\n",
    "from christoffel_symbols import  ChristoffelSymbols\n",
    "from ricci import Ricci\n",
    "import sympy as smp"
   ]
  },
  {
   "cell_type": "markdown",
   "metadata": {},
   "source": [
    "## Initializing The Schwartzschild Metric\n",
    "To obtain the metric in a nice matrix form, we just need to: \n",
    " - Import necessary libraries\n",
    " - Initialize a Schwartzschild object\n",
    " - calling the coordinate method (results in the standard (singular :)  Schwartzschild coordinates )\n",
    " - calling the schwartzschild_metric methos in order to get the metric and doing calculation upon it. \n",
    "\n",
    "The schwartzschild_metric has various parameters to explore, for the sake of simplicity, here we just set geometrized = True, in order to get rid of dimensionful constants\n",
    "($c = \\hbar = G = 1$)"
   ]
  },
  {
   "cell_type": "code",
   "execution_count": 22,
   "metadata": {},
   "outputs": [],
   "source": [
    "#Initialization of a Scwhartzschild Object\n",
    "s = Schwartzshild()\n",
    "#Calling the coordinate method to get the usual Schwartzschild coordinate\n",
    "x_s = s.coordinates()\n",
    "\n",
    "metric = s.scwhartzschild_metric(geometrized=True)"
   ]
  },
  {
   "cell_type": "code",
   "execution_count": 23,
   "metadata": {},
   "outputs": [
    {
     "data": {
      "text/latex": [
       "$\\displaystyle \\left[\\begin{matrix}- \\frac{2 M}{r} + 1 & 0 & 0 & 0\\\\0 & - \\frac{1}{- \\frac{2 M}{r} + 1} & 0 & 0\\\\0 & 0 & - r^{2} & 0\\\\0 & 0 & 0 & - r^{2} \\sin^{2}{\\left(\\theta \\right)}\\end{matrix}\\right]$"
      ],
      "text/plain": [
       "Matrix([\n",
       "[-2*M/r + 1,               0,     0,                   0],\n",
       "[         0, -1/(-2*M/r + 1),     0,                   0],\n",
       "[         0,               0, -r**2,                   0],\n",
       "[         0,               0,     0, -r**2*sin(theta)**2]])"
      ]
     },
     "execution_count": 23,
     "metadata": {},
     "output_type": "execute_result"
    }
   ],
   "source": [
    "metric"
   ]
  },
  {
   "cell_type": "markdown",
   "metadata": {},
   "source": [
    "## Christoffel Symbols, Ricci Tensor And Ricci Scalar \n",
    "Disclaimer: Right Now the Package doesn't support the calculation of the Riemman Tensor (Will Be Added Soon)\n",
    "\n",
    "In order to visualize the Ricci Tensor in A latex Way you need to pass the Ricci Tensor to the Matrix() function from the sympy package\n",
    "If you want to visualize the Ricci Tensor As it is in the book you need to pass your Ricci Tensor to the simplify function of the sympy package\n",
    "\n",
    " - Calculating Christoffel Symbols $\\Gamma^{\\mu}_{{\\alpha}{\\beta}}$\n",
    " - Calculating Ricci Tensor $R_{{\\mu}{\\nu}}$\n",
    " - Calculating Ricci Scalar Curvature $R$"
   ]
  },
  {
   "cell_type": "markdown",
   "metadata": {},
   "source": [
    "## Christoffel Symbols \n",
    " - Initialize A Christoffel Symbols Object\n",
    " - Calling The get_symbols from metric method\n",
    " - The method returns a numpy array of shape = (dim_coordinates,dim_coordinates,dim_coordinates)\n",
    " - To visualize them call the k-th component as symbols[k]"
   ]
  },
  {
   "cell_type": "code",
   "execution_count": 28,
   "metadata": {},
   "outputs": [
    {
     "data": {
      "text/latex": [
       "$\\displaystyle \\left[\\begin{matrix}0 & \\frac{M}{r \\left(- 2 M + r\\right)} & 0 & 0\\\\\\frac{M}{r \\left(- 2 M + r\\right)} & 0 & 0 & 0\\\\0 & 0 & 0 & 0\\\\0 & 0 & 0 & 0\\end{matrix}\\right]$"
      ],
      "text/plain": [
       "[[0, M/(r*(-2*M + r)), 0, 0], [M/(r*(-2*M + r)), 0, 0, 0], [0, 0, 0, 0], [0, 0, 0, 0]]"
      ]
     },
     "execution_count": 28,
     "metadata": {},
     "output_type": "execute_result"
    }
   ],
   "source": [
    "chris = ChristoffelSymbols()\n",
    "symbols = chris.get_symbols_from_metrics(metric,x_s)\n",
    "symbols[0]"
   ]
  },
  {
   "cell_type": "markdown",
   "metadata": {},
   "source": [
    " ## Ricci Tensor \n",
    " - Initialize A Ricci Object\n",
    " - Calling The RicciTensor method with the metric and the coordinates as parameters\n",
    " - The method returns a numpy array of shape = (dim_coordinates,dim_coordinates)\n",
    " - To display the non simplified result them in a latex fashion way, pass the Ricci_tensor numpy array to the sympy Matrix function\n",
    " - To display the simplified result (As you see it in textbooks) pass the Ricci_tensor numpy array to the simplify function of sympy"
   ]
  },
  {
   "cell_type": "code",
   "execution_count": 39,
   "metadata": {},
   "outputs": [
    {
     "data": {
      "text/latex": [
       "$\\displaystyle \\left[\\begin{matrix}\\frac{M^{2} \\left(- 2 M + r\\right)}{r^{4} \\cdot \\left(2 M - r\\right)} - \\frac{M^{2}}{r^{4}} + \\frac{M}{r^{3}} - \\frac{M \\left(- 2 M + r\\right)}{r^{4}} & 0 & 0 & 0\\\\0 & \\frac{M^{2}}{r^{2} \\left(- 2 M + r\\right) \\left(2 M - r\\right)} - \\frac{M^{2}}{r^{2} \\left(- 2 M + r\\right)^{2}} + \\frac{M}{r \\left(- 2 M + r\\right)^{2}} + \\frac{2 M}{r^{2} \\cdot \\left(2 M - r\\right)} + \\frac{M}{r^{2} \\left(- 2 M + r\\right)} & 0 & 0\\\\0 & 0 & \\frac{M}{r} + \\frac{M \\left(2 M - r\\right)}{r \\left(- 2 M + r\\right)} - \\frac{- \\tan^{2}{\\left(\\theta \\right)} - 1}{\\tan^{2}{\\left(\\theta \\right)}} - 1 - \\frac{1}{\\tan^{2}{\\left(\\theta \\right)}} & 0\\\\0 & 0 & 0 & \\frac{M \\sin^{2}{\\left(\\theta \\right)}}{r} + \\frac{M \\left(2 M - r\\right) \\sin^{2}{\\left(\\theta \\right)}}{r \\left(- 2 M + r\\right)} - \\sin^{2}{\\left(\\theta \\right)} + \\frac{\\sin{\\left(2 \\theta \\right)}}{2 \\tan{\\left(\\theta \\right)}} - \\cos{\\left(2 \\theta \\right)}\\end{matrix}\\right]$"
      ],
      "text/plain": [
       "Matrix([\n",
       "[M**2*(-2*M + r)/(r**4*(2*M - r)) - M**2/r**4 + M/r**3 - M*(-2*M + r)/r**4,                                                                                                                               0,                                                                                           0,                                                                                                                         0],\n",
       "[                                                                        0, M**2/(r**2*(-2*M + r)*(2*M - r)) - M**2/(r**2*(-2*M + r)**2) + M/(r*(-2*M + r)**2) + 2*M/(r**2*(2*M - r)) + M/(r**2*(-2*M + r)),                                                                                           0,                                                                                                                         0],\n",
       "[                                                                        0,                                                                                                                               0, M/r + M*(2*M - r)/(r*(-2*M + r)) - (-tan(theta)**2 - 1)/tan(theta)**2 - 1 - 1/tan(theta)**2,                                                                                                                         0],\n",
       "[                                                                        0,                                                                                                                               0,                                                                                           0, M*sin(theta)**2/r + M*(2*M - r)*sin(theta)**2/(r*(-2*M + r)) - sin(theta)**2 + sin(2*theta)/(2*tan(theta)) - cos(2*theta)]])"
      ]
     },
     "execution_count": 39,
     "metadata": {},
     "output_type": "execute_result"
    }
   ],
   "source": [
    "#Ugly form :)\n",
    "R = Ricci()\n",
    "Ricci_tensor = R.RicciTensor(metric,x_s)\n",
    "Ricci_tensor = smp.Matrix(Ricci_tensor)\n",
    "Ricci_tensor"
   ]
  },
  {
   "cell_type": "code",
   "execution_count": 37,
   "metadata": {},
   "outputs": [
    {
     "data": {
      "text/latex": [
       "$\\displaystyle \\left[\\begin{matrix}0 & 0 & 0 & 0\\\\0 & 0 & 0 & 0\\\\0 & 0 & 0 & 0\\\\0 & 0 & 0 & 0\\end{matrix}\\right]$"
      ],
      "text/plain": [
       "[[0, 0, 0, 0], [0, 0, 0, 0], [0, 0, 0, 0], [0, 0, 0, 0]]"
      ]
     },
     "execution_count": 37,
     "metadata": {},
     "output_type": "execute_result"
    }
   ],
   "source": [
    "#True correct Form: remember that we're in the vacuum\n",
    "smp.simplify(Ricci_tensor)\n"
   ]
  },
  {
   "cell_type": "markdown",
   "metadata": {},
   "source": [
    " ## Ricci Scalar\n",
    " - Calling The Ricci_scalar method with the metric and the coordinates as parameters\n",
    " - The method returns a sympyu scalar\n",
    " - To display the simplified result (As you see it in textbooks) pass the Ricci_scalar to the simplify function of sympy"
   ]
  },
  {
   "cell_type": "code",
   "execution_count": 42,
   "metadata": {},
   "outputs": [
    {
     "data": {
      "text/latex": [
       "$\\displaystyle \\left(\\frac{2 M}{r} - 1\\right) \\left(\\frac{M^{2}}{r^{2} \\left(- 2 M + r\\right) \\left(2 M - r\\right)} - \\frac{M^{2}}{r^{2} \\left(- 2 M + r\\right)^{2}} + \\frac{M}{r \\left(- 2 M + r\\right)^{2}} + \\frac{2 M}{r^{2} \\cdot \\left(2 M - r\\right)} + \\frac{M}{r^{2} \\left(- 2 M + r\\right)}\\right) + \\frac{\\frac{M^{2} \\left(- 2 M + r\\right)}{r^{4} \\cdot \\left(2 M - r\\right)} - \\frac{M^{2}}{r^{4}} + \\frac{M}{r^{3}} - \\frac{M \\left(- 2 M + r\\right)}{r^{4}}}{- \\frac{2 M}{r} + 1} - \\frac{\\frac{M}{r} + \\frac{M \\left(2 M - r\\right)}{r \\left(- 2 M + r\\right)} - \\frac{- \\tan^{2}{\\left(\\theta \\right)} - 1}{\\tan^{2}{\\left(\\theta \\right)}} - 1 - \\frac{1}{\\tan^{2}{\\left(\\theta \\right)}}}{r^{2}} - \\frac{\\frac{M \\sin^{2}{\\left(\\theta \\right)}}{r} + \\frac{M \\left(2 M - r\\right) \\sin^{2}{\\left(\\theta \\right)}}{r \\left(- 2 M + r\\right)} - \\sin^{2}{\\left(\\theta \\right)} + \\frac{\\sin{\\left(2 \\theta \\right)}}{2 \\tan{\\left(\\theta \\right)}} - \\cos{\\left(2 \\theta \\right)}}{r^{2} \\sin^{2}{\\left(\\theta \\right)}}$"
      ],
      "text/plain": [
       "(2*M/r - 1)*(M**2/(r**2*(-2*M + r)*(2*M - r)) - M**2/(r**2*(-2*M + r)**2) + M/(r*(-2*M + r)**2) + 2*M/(r**2*(2*M - r)) + M/(r**2*(-2*M + r))) + (M**2*(-2*M + r)/(r**4*(2*M - r)) - M**2/r**4 + M/r**3 - M*(-2*M + r)/r**4)/(-2*M/r + 1) - (M/r + M*(2*M - r)/(r*(-2*M + r)) - (-tan(theta)**2 - 1)/tan(theta)**2 - 1 - 1/tan(theta)**2)/r**2 - (M*sin(theta)**2/r + M*(2*M - r)*sin(theta)**2/(r*(-2*M + r)) - sin(theta)**2 + sin(2*theta)/(2*tan(theta)) - cos(2*theta))/(r**2*sin(theta)**2)"
      ]
     },
     "execution_count": 42,
     "metadata": {},
     "output_type": "execute_result"
    }
   ],
   "source": [
    "\n",
    "#Ugly form Again\n",
    "Ricci_scalar = R.RicciScalar(metric,x_s)\n",
    "Ricci_scalar"
   ]
  },
  {
   "cell_type": "code",
   "execution_count": 43,
   "metadata": {},
   "outputs": [
    {
     "data": {
      "text/latex": [
       "$\\displaystyle 0$"
      ],
      "text/plain": [
       "0"
      ]
     },
     "execution_count": 43,
     "metadata": {},
     "output_type": "execute_result"
    }
   ],
   "source": [
    "smp.simplify(Ricci_scalar)"
   ]
  }
 ],
 "metadata": {
  "kernelspec": {
   "display_name": "Python 3",
   "language": "python",
   "name": "python3"
  },
  "language_info": {
   "codemirror_mode": {
    "name": "ipython",
    "version": 3
   },
   "file_extension": ".py",
   "mimetype": "text/x-python",
   "name": "python",
   "nbconvert_exporter": "python",
   "pygments_lexer": "ipython3",
   "version": "3.10.7"
  }
 },
 "nbformat": 4,
 "nbformat_minor": 2
}
